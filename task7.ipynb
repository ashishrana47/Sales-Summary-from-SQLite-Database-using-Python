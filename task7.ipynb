{
 "cells": [
  {
   "cell_type": "markdown",
   "id": "233dc911",
   "metadata": {},
   "source": [
    "# Task 7 - Basic Sales Summary from SQLite Database"
   ]
  },
  {
   "cell_type": "markdown",
   "id": "7852d485",
   "metadata": {},
   "source": [
    "## 📌 Objective\n",
    "The goal of this task is to:\n",
    "- Connect Python with an SQLite database.\n",
    "- Run simple SQL queries to summarize sales data.\n",
    "- Visualize results using matplotlib.\n"
   ]
  },
  {
   "cell_type": "code",
   "execution_count": 1,
   "id": "6b7892f7",
   "metadata": {},
   "outputs": [],
   "source": [
    "import sqlite3\n",
    "import pandas as pd\n",
    "import matplotlib.pyplot as plt"
   ]
  },
  {
   "cell_type": "code",
   "execution_count": 2,
   "id": "94f39797",
   "metadata": {},
   "outputs": [],
   "source": [
    "# 1. Connect to SQLite database (creates one if it doesn’t exist)\n",
    "conn = sqlite3.connect(\"sales_data.db\")\n",
    "cursor = conn.cursor()"
   ]
  },
  {
   "cell_type": "code",
   "execution_count": 3,
   "id": "993e2778",
   "metadata": {},
   "outputs": [
    {
     "data": {
      "text/plain": [
       "<sqlite3.Cursor at 0x1ed5f429940>"
      ]
     },
     "execution_count": 3,
     "metadata": {},
     "output_type": "execute_result"
    }
   ],
   "source": [
    "# 2. Create a sales table (if not exists)\n",
    "cursor.execute('''\n",
    "CREATE TABLE IF NOT EXISTS sales (\n",
    "    id INTEGER PRIMARY KEY AUTOINCREMENT,\n",
    "    product TEXT,\n",
    "    quantity INTEGER,\n",
    "    price REAL\n",
    ")\n",
    "''')"
   ]
  },
  {
   "cell_type": "code",
   "execution_count": 4,
   "id": "09726428",
   "metadata": {},
   "outputs": [],
   "source": [
    "# 3. Insert some sample data (only if table is empty)\n",
    "cursor.execute(\"SELECT COUNT(*) FROM sales\")\n",
    "if cursor.fetchone()[0] == 0:\n",
    "    sample_data = [\n",
    "        (\"Laptop\", 5, 60000),\n",
    "        (\"Laptop\", 3, 60000),\n",
    "        (\"Phone\", 10, 20000),\n",
    "        (\"Phone\", 7, 20000),\n",
    "        (\"Tablet\", 8, 15000),\n",
    "        (\"Tablet\", 4, 15000),\n",
    "        (\"Headphones\", 15, 2000),\n",
    "        (\"Headphones\", 12, 2000),\n",
    "    ]\n",
    "    cursor.executemany(\"INSERT INTO sales (product, quantity, price) VALUES (?, ?, ?)\", sample_data)\n",
    "    conn.commit()"
   ]
  },
  {
   "cell_type": "code",
   "execution_count": 5,
   "id": "67d26ebd",
   "metadata": {},
   "outputs": [],
   "source": [
    "# 4. Run SQL query to calculate total sales per product\n",
    "query = \"\"\"\n",
    "SELECT product, \n",
    "       SUM(quantity) AS total_qty, \n",
    "       SUM(quantity * price) AS revenue\n",
    "FROM sales\n",
    "GROUP BY product\n",
    "\"\"\""
   ]
  },
  {
   "cell_type": "code",
   "execution_count": 6,
   "id": "a7bf84ca",
   "metadata": {},
   "outputs": [
    {
     "name": "stdout",
     "output_type": "stream",
     "text": [
      "Sales Summary:\n",
      "      product  total_qty   revenue\n",
      "0  Headphones         27   54000.0\n",
      "1      Laptop          8  480000.0\n",
      "2       Phone         17  340000.0\n",
      "3      Tablet         12  180000.0\n"
     ]
    }
   ],
   "source": [
    "df = pd.read_sql_query(query, conn)\n",
    "\n",
    "# 5. Display results\n",
    "print(\"Sales Summary:\")\n",
    "print(df)"
   ]
  },
  {
   "cell_type": "code",
   "execution_count": 10,
   "id": "9b5c2c0a",
   "metadata": {},
   "outputs": [
    {
     "data": {
      "text/plain": [
       "<Figure size 800x500 with 0 Axes>"
      ]
     },
     "metadata": {},
     "output_type": "display_data"
    },
    {
     "data": {
      "image/png": "[encoded data removed]",
      "text/plain": [
       "<Figure size 640x480 with 1 Axes>"
      ]
     },
     "metadata": {},
     "output_type": "display_data"
    }
   ],
   "source": [
    "# 6. Visualization - Bar chart of Revenue per Product\n",
    "plt.figure(figsize=(8,5))\n",
    "df.plot(kind='bar', x='product', y='revenue', legend=False, color=\"skyblue\")\n",
    "plt.title(\"Revenue by Product\")\n",
    "plt.ylabel(\"Revenue (INR)\")\n",
    "plt.xlabel(\"Product\")\n",
    "plt.xticks(rotation=45)\n",
    "plt.tight_layout()\n",
    "plt.savefig(\"sales_chart.png\")  # Save chart as image\n",
    "plt.show()\n"
   ]
  },
  {
   "cell_type": "code",
   "execution_count": 11,
   "id": "104dbdee",
   "metadata": {},
   "outputs": [],
   "source": [
    "# 7. Close connection\n",
    "conn.close()\n"
   ]
  },
  {
   "cell_type": "code",
   "execution_count": null,
   "id": "ab8f476f",
   "metadata": {},
   "outputs": [],
   "source": []
  }
 ],
 "metadata": {
  "kernelspec": {
   "display_name": "Python 3",
   "language": "python",
   "name": "python3"
  },
  "language_info": {
   "codemirror_mode": {
    "name": "ipython",
    "version": 3
   },
   "file_extension": ".py",
   "mimetype": "text/x-python",
   "name": "python",
   "nbconvert_exporter": "python",
   "pygments_lexer": "ipython3",
   "version": "3.13.7"
  }
 },
 "nbformat": 4,
 "nbformat_minor": 5
}
